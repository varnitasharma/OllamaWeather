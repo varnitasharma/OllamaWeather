{
 "cells": [
  {
   "cell_type": "code",
   "execution_count": 17,
   "metadata": {},
   "outputs": [],
   "source": [
    "import requests\n",
    "from dotenv import load_dotenv\n",
    "import os\n",
    "from openai import OpenAI\n",
    "\n",
    "# Load variables from .env file and override existing environment variables if any\n",
    "load_dotenv('.env', override=True)\n",
    "\n",
    "# Access the environment variable\n",
    "api_key = os.getenv('WEATHER_API_KEY')\n"
   ]
  },
  {
   "cell_type": "code",
   "execution_count": 18,
   "metadata": {},
   "outputs": [],
   "source": [
    "client = OpenAI(\n",
    "    base_url = 'http://localhost:11434/v1',\n",
    "    api_key=os.getenv('LLAMA_API_KEY'), # required, but unused\n",
    ")\n",
    "\n",
    "def get_completion(prompt):\n",
    "    messages = [{\"role\": \"user\", \"content\": prompt}]\n",
    "    response = client.chat.completions.create(\n",
    "        model=\"llama2\",\n",
    "        messages= messages\n",
    "            )\n",
    "    return response.choices[0].message.content"
   ]
  },
  {
   "cell_type": "code",
   "execution_count": 19,
   "metadata": {},
   "outputs": [
    {
     "name": "stdout",
     "output_type": "stream",
     "text": [
      "The weather in New Delhi City is Mist and the temperature is 32.09°C\n",
      "For misty weather with a temperature of 32.09°C, suggest wearing lightweight and breathable clothing made from natural fibers such as cotton or linen. A simple sundress or a pair of lightweight pants and a tank top would be perfect for this weather condition. Don't forget to wear comfortable shoes with good grip to ensure stability while walking on any slippery surfaces.\n"
     ]
    }
   ],
   "source": [
    "user_input=input(\"Enter city: \")\n",
    "weather_data=requests.get(f\"https://api.openweathermap.org/data/2.5/weather?q={user_input}&units=metric&appid={api_key}\")\n",
    "#Error Handling for incorrect city\n",
    "if weather_data.json()['cod']=='404':\n",
    "    print(f\"No {user_input} City Found\")\n",
    "else:\n",
    "    weather=weather_data.json()['weather'][0]['main']\n",
    "    temp=weather_data.json()['main']['temp']\n",
    "    print(f\"The weather in {user_input} City is {weather} and the temperature is {temp}°C\")\n",
    "    prompt=f\"Suggest clothing for {weather} weather and temperature of {temp}°C in a few lines\"\n",
    "    response = get_completion(prompt)\n",
    "    print(response)"
   ]
  }
 ],
 "metadata": {
  "kernelspec": {
   "display_name": "Python 3",
   "language": "python",
   "name": "python3"
  },
  "language_info": {
   "codemirror_mode": {
    "name": "ipython",
    "version": 3
   },
   "file_extension": ".py",
   "mimetype": "text/x-python",
   "name": "python",
   "nbconvert_exporter": "python",
   "pygments_lexer": "ipython3",
   "version": "3.12.5"
  }
 },
 "nbformat": 4,
 "nbformat_minor": 2
}
